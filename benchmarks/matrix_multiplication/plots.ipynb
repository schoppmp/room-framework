{
 "cells": [
  {
   "cell_type": "code",
   "execution_count": 1,
   "metadata": {},
   "outputs": [],
   "source": [
    "import numpy as np\n",
    "import matplotlib.pyplot as plt\n",
    "from scipy.optimize import curve_fit\n",
    "import itertools\n",
    "plt.rcParams['figure.figsize'] = (12.0, 6.0)"
   ]
  },
  {
   "cell_type": "code",
   "execution_count": 20,
   "metadata": {},
   "outputs": [
    {
     "name": "stderr",
     "output_type": "stream",
     "text": [
      "/usr/lib/python3.6/site-packages/scipy/optimize/minpack.py:794: OptimizeWarning: Covariance of the parameters could not be estimated\n",
      "  category=OptimizeWarning)\n"
     ]
    }
   ],
   "source": [
    "# parameters\n",
    "#settings = ['LAN', 'WAN']\n",
    "settings = ['LAN']\n",
    "parties = [0,1]\n",
    "protocols = ['scs', 'poly']\n",
    "\n",
    "all_params = itertools.product(settings, parties, protocols)\n",
    "\n",
    "#data_filenames=['p0_lan.out', 'p0_wan.out', 'p1_lan.out', 'p1_wan.out']\n",
    "data_filenames=['p0_lan.out', 'p1_lan.out']\n",
    "raw_data = {}\n",
    "pir_type = \"\"\n",
    "k_A, k_B, l, n, time = 0., 0., 0., 0., 0.\n",
    "for i_setting, setting in enumerate(settings):\n",
    "    for p in parties:\n",
    "        with open(data_filenames[p*len(settings) + i_setting]) as f:\n",
    "            for line in f.read().splitlines():\n",
    "                fields = line.split()\n",
    "                if fields[0] == \"Running\":\n",
    "                    pir_type = fields[-1][1:-1]\n",
    "                    if (setting, p, pir_type) not in raw_data:\n",
    "                        raw_data[(setting, p, pir_type)] = []\n",
    "                if fields[0] == \"l\":\n",
    "                    l = fields[-1]\n",
    "                if fields[0] == \"n\":\n",
    "                    n = fields[-1]\n",
    "                if fields[0] == \"k_A\":\n",
    "                    k_A = fields[-1]\n",
    "                if fields[0] == \"k_B\":\n",
    "                    k_B = fields[-1]\n",
    "                if fields[0] == \"Sparse\":\n",
    "                    time = fields[-2]\n",
    "                    raw_data[(setting, p, pir_type)] += \\\n",
    "                        [[k_A, k_B, l, n, time]]\n",
    "\n",
    "data = {param : np.array(raw_data[param], dtype=np.float64) for param in raw_data.keys()}\n",
    "\n",
    "# data is (k_A, k_B, l, n)\n",
    "f_mpc = { # same for both parties\n",
    "    'scs': lambda data,a,b,c,d,e: [a*n + b*n*np.log2(n) + \\\n",
    "        d #c*n*(np.log2(n)**2) + d\n",
    "            for n in [data[:,0] + data[:,1]]][0] + \\\n",
    "        e * (data[:,0] + data[:,1]) * data[:,2] * data[:,3],\n",
    "    'poly': lambda data,a,b,c,d,e: a * data[:,0] * data[:,1] + \\\n",
    "        b * data[:,0] + c * data[:,1] + d + \\\n",
    "        e * (data[:,0] + data[:,1]) * data[:,2] * data[:,3]\n",
    "}\n",
    "\n",
    "coeffs = {\n",
    "    params : curve_fit(f_mpc[params[2]], data[params][:,:4], data[params][:,4])[0]\n",
    "    for params in data.keys()\n",
    "}\n",
    "\n",
    "def model(params):\n",
    "    (setting, p, algo) = params\n",
    "    return lambda data: f_mpc[algo](data, *(coeffs_mpc[params]))"
   ]
  },
  {
   "cell_type": "code",
   "execution_count": null,
   "metadata": {},
   "outputs": [],
   "source": []
  },
  {
   "cell_type": "code",
   "execution_count": null,
   "metadata": {},
   "outputs": [],
   "source": []
  }
 ],
 "metadata": {
  "kernelspec": {
   "display_name": "Python 3",
   "language": "python",
   "name": "python3"
  },
  "language_info": {
   "codemirror_mode": {
    "name": "ipython",
    "version": 3
   },
   "file_extension": ".py",
   "mimetype": "text/x-python",
   "name": "python",
   "nbconvert_exporter": "python",
   "pygments_lexer": "ipython3",
   "version": "3.6.5"
  }
 },
 "nbformat": 4,
 "nbformat_minor": 2
}
