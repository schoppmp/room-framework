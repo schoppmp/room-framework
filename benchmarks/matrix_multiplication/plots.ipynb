{
 "cells": [
  {
   "cell_type": "code",
   "execution_count": 1,
   "metadata": {},
   "outputs": [],
   "source": [
    "import numpy as np\n",
    "import matplotlib.pyplot as plt\n",
    "from scipy.optimize import curve_fit\n",
    "import itertools\n",
    "plt.rcParams['figure.figsize'] = (12.0, 6.0)"
   ]
  },
  {
   "cell_type": "code",
   "execution_count": 3,
   "metadata": {},
   "outputs": [
    {
     "name": "stderr",
     "output_type": "stream",
     "text": [
      "/usr/lib/python3.6/site-packages/scipy/optimize/minpack.py:794: OptimizeWarning: Covariance of the parameters could not be estimated\n",
      "  category=OptimizeWarning)\n"
     ]
    }
   ],
   "source": [
    "# parameters\n",
    "settings = ['LAN', 'WAN']\n",
    "#settings = ['LAN']\n",
    "parties = [0,1]\n",
    "protocols = ['scs', 'poly']\n",
    "\n",
    "all_params = itertools.product(settings, parties, protocols)\n",
    "\n",
    "data_filenames=['p0_lan.out', 'p0_wan.out', 'p1_lan.out', 'p1_wan.out']\n",
    "#data_filenames=['p0_lan.out', 'p1_lan.out']\n",
    "raw_data = {}\n",
    "pir_type = \"\"\n",
    "k_A, k_B, l, n, time_reduction, time_total = 0., 0., 0., 0., 0., 0.\n",
    "for i_setting, setting in enumerate(settings):\n",
    "    for p in parties:\n",
    "        with open(data_filenames[p*len(settings) + i_setting]) as f:\n",
    "            for line in f.read().splitlines():\n",
    "                fields = line.split()\n",
    "                if fields[0] == \"Running\":\n",
    "                    pir_type = fields[-1][1:-1]\n",
    "                    if (setting, p, pir_type) not in raw_data:\n",
    "                        raw_data[(setting, p, pir_type)] = []\n",
    "                if fields[0] == \"l\":\n",
    "                    l = fields[-1]\n",
    "                if fields[0] == \"n\":\n",
    "                    n = fields[-1]\n",
    "                if fields[0] == \"k_A\":\n",
    "                    k_A = fields[-1]\n",
    "                if fields[0] == \"k_B\":\n",
    "                    k_B = fields[-1]\n",
    "                if fields[0] == \"mpc_time:\":\n",
    "                    time_reduction = fields[-2]\n",
    "                if fields[0] == \"Sparse\":\n",
    "                    time_total = fields[-2]\n",
    "                    if(int(k_A) >= int(k_B)):\n",
    "                        raw_data[(setting, p, pir_type)] += \\\n",
    "                            [[k_A, k_B, l, n, time_reduction, time_total]]\n",
    "\n",
    "data = {param : np.array(raw_data[param], dtype=np.float64) for param in raw_data.keys()}\n",
    "\n",
    "# data is (k_A, k_B, l, n)\n",
    "f_dense = lambda data,a,b,c: \\\n",
    "    [a * m * data[:,2] * data[:,3] + \\\n",
    "    b * m * data[:,2] + \\\n",
    "    c * m * data[:,3] for m in [data[:,0] + data[:,1]]][0]\n",
    "fs = {\n",
    "    'reduction': {\n",
    "        'scs': lambda data,a,b,c,: [a*m + b*m*np.log2(m) + c \n",
    "            for m in [data[:,0] + data[:,1]]][0],\n",
    "        'poly': lambda data,a,b,c,d: a * data[:,0] * data[:,1] + \\\n",
    "            b * data[:,0] + c * data[:,1] + d,\n",
    "    },\n",
    "    'total': { # same for both parties\n",
    "        'scs': lambda data,a,b,c,d,e,f: fs['reduction']['scs'](data,a,b,c) + \\\n",
    "            f_dense(data,d,e,f),\n",
    "        'poly': lambda data,a,b,c,d,e,f,g: fs['reduction']['poly'](data,a,b,c,d) + \\\n",
    "            f_dense(data,e,f,g)\n",
    "    }\n",
    "}\n",
    "f_index = {'reduction': 4, 'total': 5}\n",
    "\n",
    "coeffs = {\n",
    "    params : {k: curve_fit(fs[k][params[2]], data[params][:,:4], data[params][:,f_index[k]])[0]\n",
    "              for k in fs.keys()}\n",
    "    for params in data.keys()\n",
    "}\n",
    "\n",
    "def model(params, phase):\n",
    "    (setting, p, algo) = params\n",
    "    return lambda data: fs[phase][algo](data, *(coeffs[params][phase]))"
   ]
  },
  {
   "cell_type": "code",
   "execution_count": 5,
   "metadata": {},
   "outputs": [
    {
     "name": "stdout",
     "output_type": "stream",
     "text": [
      "k-NN (LAN)\n",
      "Languages, ngrams=5 {'reduction': [{'scs': 5.481745261831275, 'poly': 0.6407213880773551}, {'scs': 5.407991238724918, 'poly': 0.5864365415700068}, {'scs': 0.9717949099580065, 'poly': 0.3977835363995512}, {'scs': 127.34213031849104, 'poly': 31.604712731377866}], 'total': [{'scs': 14.040839608525857, 'poly': 10.390819996595383}, {'scs': 13.057586292736232, 'poly': 9.317478254437447}, {'scs': 1.0823606148187537, 'poly': 0.4962030742317438}, {'scs': 138.73304564133286, 'poly': 46.86994290351868}]}\n"
     ]
    },
    {
     "data": {
      "image/png": "[encoded data removed]",
      "text/plain": [
       "<Figure size 864x432 with 1 Axes>"
      ]
     },
     "metadata": {},
     "output_type": "display_data"
    },
    {
     "name": "stdout",
     "output_type": "stream",
     "text": [
      "\n",
      "k-NN (WAN)\n",
      "Languages, ngrams=5 {'reduction': [{'scs': 15.77033585717684, 'poly': 5.239242306178221}, {'scs': 15.630772213637632, 'poly': 5.121615705020448}, {'scs': 7.053164973940752, 'poly': 4.693783082943791}, {'scs': 237.2238380388264, 'poly': 74.0845878883826}], 'total': [{'scs': 33.355541052878834, 'poly': 18.243690067902207}, {'scs': 31.35413849289762, 'poly': 16.776559250429273}, {'scs': 7.2773042303015245, 'poly': 4.957048273645341}, {'scs': 260.2308996543288, 'poly': 92.70702955126762}]}\n"
     ]
    },
    {
     "data": {
      "image/png": "[encoded data removed]",
      "text/plain": [
       "<Figure size 864x432 with 1 Axes>"
      ]
     },
     "metadata": {},
     "output_type": "display_data"
    },
    {
     "name": "stdout",
     "output_type": "stream",
     "text": [
      "\n"
     ]
    }
   ],
   "source": [
    "algos = ['scs', 'poly']\n",
    "phase = 'local + mpc'\n",
    "party = 0\n",
    "def knn(setting, phase, l, m, s_1, s_64):\n",
    "    num_batches = l / 64.\n",
    "    return {algo: model((setting, party, algo), phase)(np.array([[m * s_64, m * s_1, l, 1]]))[0] for algo in algos}\n",
    "\n",
    "#(l, m, s_1, s_64)\n",
    "datasets = {\n",
    "    'Movies': (10000, 124247, 0.001, 0.028),\n",
    "    'Newsgroups': (9051, 101631, 0.001, 0.034),\n",
    "    'Languages, ngrams=1': (783, 1017, 0.023, 0.374),\n",
    "    'Languages, ngrams=5': (783, 272796, 0.052, 0.1704),\n",
    "}\n",
    "\n",
    "bar_width = 0.2\n",
    "algo_colors = [[0.,1.,0.],[0.,0.,1.]]\n",
    "phase_brightness = [0.6, 1]\n",
    "for setting in ['LAN', 'WAN']:\n",
    "    print(\"k-NN ({})\".format(setting))\n",
    "    timings = {k : [] for k in fs.keys()}\n",
    "    for k in datasets.keys():\n",
    "        for phase in fs.keys():\n",
    "            timings[phase] += [knn(setting, phase, *datasets[k])]\n",
    "    print(k, timings)\n",
    "    rects = []\n",
    "    for (i, algo) in enumerate(algos):\n",
    "        bottom = np.array([0.] * len(datasets))\n",
    "        for (j, phase) in enumerate(timings.keys()):\n",
    "            rect = plt.bar(np.arange(len(datasets)) + i * bar_width, \n",
    "                [t[algo] for t in timings[phase]] - bottom, bar_width,\n",
    "                bottom = bottom,\n",
    "                color = np.array(algo_colors[i]) * phase_brightness[j])\n",
    "            if j == 1:\n",
    "                rects += [rect]\n",
    "            bottom += [t[algo] for t in timings[phase]]\n",
    "    plt.legend(rects, algos)\n",
    "    plt.xticks(range(len(datasets)), datasets.keys())\n",
    "    plt.xlabel('Dataset')\n",
    "    plt.ylabel('Time (s)')\n",
    "    #plt.yscale('log')\n",
    "    plt.title(\"k-NN ({})\".format(setting))\n",
    "    plt.savefig('knn_{}.pdf'.format(setting), bbox_inches='tight')\n",
    "    plt.show()\n",
    "    print()\n",
    "    "
   ]
  },
  {
   "cell_type": "code",
   "execution_count": null,
   "metadata": {},
   "outputs": [],
   "source": []
  }
 ],
 "metadata": {
  "kernelspec": {
   "display_name": "Python 3",
   "language": "python",
   "name": "python3"
  },
  "language_info": {
   "codemirror_mode": {
    "name": "ipython",
    "version": 3
   },
   "file_extension": ".py",
   "mimetype": "text/x-python",
   "name": "python",
   "nbconvert_exporter": "python",
   "pygments_lexer": "ipython3",
   "version": "3.6.5"
  }
 },
 "nbformat": 4,
 "nbformat_minor": 2
}
